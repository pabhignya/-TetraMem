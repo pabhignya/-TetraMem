{
  "nbformat": 4,
  "nbformat_minor": 0,
  "metadata": {
    "colab": {
      "provenance": []
    },
    "kernelspec": {
      "name": "python3",
      "display_name": "Python 3"
    },
    "language_info": {
      "name": "python"
    }
  },
  "cells": [
    {
      "cell_type": "code",
      "source": [
        "import numpy as np\n",
        "import imageio.v3 as imageio\n",
        "import matplotlib.pyplot as plt\n",
        "from collections import deque\n",
        "import uuid"
      ],
      "metadata": {
        "id": "V9-aAv1bmBLl"
      },
      "execution_count": null,
      "outputs": []
    },
    {
      "cell_type": "code",
      "source": [
        "def is_valid_pixel(universe: np.ndarray, x: int, y: int) -> bool:\n",
        "    \"\"\"Check if the pixel is within bounds and is black (0).\"\"\"\n",
        "    return 0 <= x < universe.shape[1] and 0 <= y < universe.shape[0] and universe[y, x] == 0"
      ],
      "metadata": {
        "id": "tDWkKhKpmDOh"
      },
      "execution_count": null,
      "outputs": []
    },
    {
      "cell_type": "code",
      "source": [
        "def get_neighbors(x: int, y: int, direction_preference: str = None) -> list[tuple[int, int]]:\n",
        "    \"\"\"Return 4-connected neighbors, optionally prioritizing directions.\"\"\"\n",
        "    neighbors = [(x, y-1), (x, y+1), (x-1, y), (x+1, y)]  # up, down, left, right\n",
        "    if direction_preference == \"right\":\n",
        "        # Prioritize right, down, left, up\n",
        "        return [(x+1, y), (x, y+1), (x-1, y), (x, y-1)]\n",
        "    elif direction_preference == \"left\":\n",
        "        # Prioritize left, up, right, down\n",
        "        return [(x-1, y), (x, y-1), (x+1, y), (x, y+1)]\n",
        "    return neighbors"
      ],
      "metadata": {
        "id": "XnlFFLxCmGnn"
      },
      "execution_count": null,
      "outputs": []
    },
    {
      "cell_type": "code",
      "source": [
        "def path_exists(universe: np.ndarray, start_x: int, start_y: int, end_x: int, end_y: int,\n",
        "                direction_preference: str = None) -> tuple[bool, list[tuple[int, int]]]:\n",
        "    \"\"\"Find if a path exists between start and end points using BFS. Return (exists, path).\"\"\"\n",
        "    if not (is_valid_pixel(universe, start_x, start_y) and is_valid_pixel(universe, end_x, end_y)):\n",
        "        return False, []\n",
        "\n",
        "    queue = deque([(start_x, start_y)])\n",
        "    visited = {(start_x, start_y)}\n",
        "    parent = {(start_x, start_y): None}\n",
        "\n",
        "    while queue:\n",
        "        x, y = queue.popleft()\n",
        "        if (x, y) == (end_x, end_y):\n",
        "            # Reconstruct path\n",
        "            path = []\n",
        "            current = (x, y)\n",
        "            while current is not None:\n",
        "                path.append(current)\n",
        "                current = parent[current]\n",
        "            return True, path[::-1]  # Reverse to get start to end\n",
        "\n",
        "        for nx, ny in get_neighbors(x, y, direction_preference):\n",
        "            if is_valid_pixel(universe, nx, ny) and (nx, ny) not in visited:\n",
        "                visited.add((nx, ny))\n",
        "                parent[(nx, ny)] = (x, y)\n",
        "                queue.append((nx, ny))\n",
        "\n",
        "    return False, []"
      ],
      "metadata": {
        "id": "EoxLpPUamQOc"
      },
      "execution_count": null,
      "outputs": []
    },
    {
      "cell_type": "code",
      "source": [
        "def visualize_path(universe: np.ndarray, path: list[tuple[int, int]], output_file: str):\n",
        "    \"\"\"Visualize a single path on the universe and save to output_file.\"\"\"\n",
        "    vis_image = np.stack([universe, universe, universe], axis=-1)  # Grayscale to RGB\n",
        "    for x, y in path:\n",
        "        vis_image[y, x] = [255, 0, 0]  # Mark path in red\n",
        "\n",
        "    plt.imshow(vis_image)\n",
        "    plt.axis('off')\n",
        "    plt.savefig(output_file, bbox_inches='tight', pad_inches=0)\n",
        "    plt.close()"
      ],
      "metadata": {
        "id": "SB7s3eudmUfi"
      },
      "execution_count": null,
      "outputs": []
    },
    {
      "cell_type": "code",
      "source": [
        "def two_non_intersecting_paths(\n",
        "    universe: np.ndarray,\n",
        "    start1_x: int, start1_y: int, end1_x: int, end1_y: int,\n",
        "    start2_x: int, start2_y: int, end2_x: int, end2_y: int\n",
        ") -> tuple[bool, list[tuple[int, int]], list[tuple[int, int]]]:\n",
        "    \"\"\"Find two non-intersecting paths, trying right and left preferences for the second path.\"\"\"\n",
        "    # Find first path (no direction preference, shortest path)\n",
        "    exists1, path1 = path_exists(universe, start1_x, start1_y, end1_x, end1_y)\n",
        "    if not exists1:\n",
        "        return False, [], []\n",
        "\n",
        "    # Create a temporary universe blocking the first path\n",
        "    temp_universe = universe.copy()\n",
        "    for x, y in path1:\n",
        "        temp_universe[y, x] = 255  # Mark path1 pixels as white (blocked)\n",
        "\n",
        "    # Try second path with \"right\" preference\n",
        "    exists2, path2 = path_exists(temp_universe, start2_x, start2_y, end2_x, end2_y, direction_preference=\"right\")\n",
        "    if exists2:\n",
        "        return True, path1, path2\n",
        "\n",
        "    # If right fails, try second path with \"left\" preference\n",
        "    exists2, path2 = path_exists(temp_universe, start2_x, start2_y, end2_x, end2_y, direction_preference=\"left\")\n",
        "    if exists2:\n",
        "        return True, path1, path2\n",
        "\n",
        "    return False, [], []"
      ],
      "metadata": {
        "id": "KrKL0MDemc0X"
      },
      "execution_count": null,
      "outputs": []
    },
    {
      "cell_type": "code",
      "source": [
        "def visualize_two_paths(universe: np.ndarray, path1: list[tuple[int, int]], path2: list[tuple[int, int]], output_file: str):\n",
        "    \"\"\"Visualize two non-intersecting paths on the universe and save to output_file.\"\"\"\n",
        "    vis_image = np.stack([universe, universe, universe], axis=-1)\n",
        "    for x, y in path1:\n",
        "        vis_image[y, x] = [255, 0, 0]  # First path in red\n",
        "    for x, y in path2:\n",
        "        vis_image[y, x] = [0, 255, 0]  # Second path in green\n",
        "\n",
        "    plt.imshow(vis_image)\n",
        "    plt.axis('off')\n",
        "    plt.savefig(output_file, bbox_inches='tight', pad_inches=0)\n",
        "    plt.close()"
      ],
      "metadata": {
        "id": "vSVlATTemiM1"
      },
      "execution_count": null,
      "outputs": []
    },
    {
      "cell_type": "code",
      "source": [
        "# Stimulation\n",
        "if __name__ == \"__main__\":\n",
        "    # Load image\n",
        "    try:\n",
        "        universe = imageio.imread('bars.png', mode='L')  # Load as grayscale\n",
        "    except FileNotFoundError:\n",
        "        print(\"Please provide a valid image file (e.g., bars.png).\")\n",
        "        exit(1)\n",
        "\n",
        "    # Single path\n",
        "    start_x, start_y = 0, 1\n",
        "    end_x, end_y = 0, 8\n",
        "    exists, path = path_exists(universe, start_x, start_y, end_x, end_y)\n",
        "    if exists:\n",
        "        print(\"Single path exists!\")\n",
        "        visualize_path(universe, path, \"path_output.png\")\n",
        "    else:\n",
        "        print(\"No single path exists.\")\n",
        "\n",
        "    # Two non-intersecting paths\n",
        "    start2_x, start2_y = 0,0\n",
        "    end2_x, end2_y = 2, 2\n",
        "    exists, path1, path2 = two_non_intersecting_paths(\n",
        "        universe, start_x, start_y, end_x, end_y, start2_x, start2_y, end2_x, end2_y\n",
        "    )\n",
        "    if exists:\n",
        "        print(\"Two non-intersecting paths exist!\")\n",
        "        visualize_two_paths(universe, path1, path2, \"two_paths_output.png\")\n",
        "    else:\n",
        "        print(\"No two non-intersecting paths exist.\")"
      ],
      "metadata": {
        "colab": {
          "base_uri": "https://localhost:8080/"
        },
        "id": "2v4iJvSwj3Pz",
        "outputId": "63b145dd-69e7-4052-bca5-40d25c923727"
      },
      "execution_count": 30,
      "outputs": [
        {
          "output_type": "stream",
          "name": "stdout",
          "text": [
            "Single path exists!\n",
            "Two non-intersecting paths exist!\n"
          ]
        }
      ]
    }
  ]
}